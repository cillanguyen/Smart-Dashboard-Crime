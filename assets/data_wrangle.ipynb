{
 "cells": [
  {
   "cell_type": "code",
   "execution_count": 2,
   "metadata": {},
   "outputs": [],
   "source": [
    "# Library\n",
    "import pandas as pd"
   ]
  },
  {
   "cell_type": "code",
   "execution_count": 20,
   "metadata": {},
   "outputs": [],
   "source": [
    "seattleCrime_df = pd.read_csv('crime_data_2022_up.csv')\n",
    "seattleCrime_df = seattleCrime_df[seattleCrime_df['Year'] == 2023]\n",
    "seattleCrime_df['Year'].unique()\n",
    "len(seattleCrime_df) # 70599\n",
    "\n",
    "seattleCrime_df.to_csv('seattleCrime2022', index=False)"
   ]
  }
 ],
 "metadata": {
  "kernelspec": {
   "display_name": "base",
   "language": "python",
   "name": "python3"
  },
  "language_info": {
   "codemirror_mode": {
    "name": "ipython",
    "version": 3
   },
   "file_extension": ".py",
   "mimetype": "text/x-python",
   "name": "python",
   "nbconvert_exporter": "python",
   "pygments_lexer": "ipython3",
   "version": "3.10.9"
  }
 },
 "nbformat": 4,
 "nbformat_minor": 2
}
