{
 "cells": [
  {
   "cell_type": "code",
   "execution_count": 3,
   "metadata": {},
   "outputs": [],
   "source": [
    "# Library\n",
    "import pandas as pd\n",
    "import geopandas as gpd\n",
    "from shapely.geometry import Point"
   ]
  },
  {
   "cell_type": "code",
   "execution_count": 4,
   "metadata": {},
   "outputs": [],
   "source": [
    "# Loading Data\n",
    "seattleCrime_df = pd.read_csv('crime_data_2022_up.csv')"
   ]
  },
  {
   "cell_type": "code",
   "execution_count": 5,
   "metadata": {},
   "outputs": [],
   "source": [
    "# Filter to 2023 Year\n",
    "seattleCrime_df = seattleCrime_df[seattleCrime_df['Year'] == 2023]\n",
    "seattleCrime_df['Year'].unique()\n",
    "len(seattleCrime_df) # 70599\n",
    "\n",
    "# Data Wrangle/Inspection\n",
    "len(seattleCrime_df['Offense'].unique())                   # 56\n",
    "len(seattleCrime_df['Offense Code'].unique())              # 56\n",
    "len(seattleCrime_df['Offense Parent Group'].unique())      # 31\n",
    "seattleCrime_df['Crime Against Category'].unique()  # ['PROPERTY' 'PERSON' 'SOCIETY' 'NOT_A_CRIME']\n",
    "\n",
    "seattleCrime_df['Month'] =  pd.to_datetime(seattleCrime_df['Date']).dt.month\n",
    "\n",
    "\n",
    "# Filter Columns\n",
    "seattleCrime_df = seattleCrime_df[['Report Number','Offense ID', 'Crime Against Category', 'Offense Parent Group', 'Offense', \n",
    "                                   'Offense Code', 'MCPP', 'Longitude', 'Latitude', 'Date', 'Year', 'Month']]\n",
    "\n",
    "len(seattleCrime_df[seattleCrime_df['Longitude'] == 0.000000]) # 5063\n",
    "\n",
    "# Filtering Rows with no lat/long\n",
    "seattleCrime_df = seattleCrime_df[seattleCrime_df['Offense Parent Group'] != 'SEX OFFENSES']\n",
    "seattleCrime_df = seattleCrime_df[seattleCrime_df['Offense Parent Group'] != 'KIDNAPPING/ABDUCTION']\n",
    "seattleCrime_df = seattleCrime_df[seattleCrime_df['Offense Parent Group'] != 'PEEPING TOM']\n",
    "seattleCrime_df = seattleCrime_df[seattleCrime_df['Offense Parent Group'] != 'HOMICIDE OFFENSES']\n",
    "seattleCrime_df = seattleCrime_df[seattleCrime_df['Offense Parent Group'] != 'HUMAN TRAFFICKING']\n",
    "seattleCrime_df = seattleCrime_df[seattleCrime_df['Offense Parent Group'] != 'FAMILY OFFENSES, NONVIOLENT']\n",
    "seattleCrime_df = seattleCrime_df[seattleCrime_df['Offense Parent Group'] != 'BRIBERY']\n",
    "seattleCrime_df = seattleCrime_df[seattleCrime_df['Offense Parent Group'] != 'SEX OFFENSES, CONSENSUAL']\n",
    "seattleCrime_df = seattleCrime_df[seattleCrime_df['Offense Parent Group'] != 'LIQUOR LAW VIOLATIONS']\n",
    "seattleCrime_df = seattleCrime_df[seattleCrime_df['Offense Parent Group'] != 'CURFEW/LOITERING/VAGRANCY VIOLATIONS']\n",
    "seattleCrime_df = seattleCrime_df[seattleCrime_df['Offense Parent Group'] != 'GAMBLING OFFENSES']\n",
    "\n",
    "# Save as GeoJSON\n",
    "geometry = [Point(xy) for xy in zip(seattleCrime_df['Longitude'], seattleCrime_df['Latitude'])]\n",
    "geo_df = gpd.GeoDataFrame(seattleCrime_df, geometry=geometry, crs='EPSG:4326')\n",
    "geo_df.to_file('seattleCrime2023.geojson', driver='GeoJSON')\n"
   ]
  },
  {
   "cell_type": "code",
   "execution_count": 6,
   "metadata": {},
   "outputs": [
    {
     "name": "stdout",
     "output_type": "stream",
     "text": [
      "{'LARCENY-THEFT': 22668, 'ASSAULT OFFENSES': 11036, 'MOTOR VEHICLE THEFT': 9234, 'BURGLARY/BREAKING&ENTERING': 8528, 'DESTRUCTION/DAMAGE/VANDALISM OF PROPERTY': 7220, 'FRAUD OFFENSES': 3161, 'TRESPASS OF REAL PROPERTY': 1798, 'ROBBERY': 1691, 'DRIVING UNDER THE INFLUENCE': 1220, 'WEAPON LAW VIOLATIONS': 867, 'STOLEN PROPERTY OFFENSES': 749, 'DRUG/NARCOTIC OFFENSES': 617, 'COUNTERFEITING/FORGERY': 255, 'EXTORTION/BLACKMAIL': 159, 'ARSON': 147, 'EMBEZZLEMENT': 69, 'ANIMAL CRUELTY': 45, 'PORNOGRAPHY/OBSCENE MATERIAL': 44, 'PROSTITUTION OFFENSES': 44, 'BAD CHECKS': 34}\n"
     ]
    }
   ],
   "source": [
    "unique_crimes = geo_df['Offense Parent Group'].unique()\n",
    "\n",
    "# Create a dictionary to store the count of each unique crime\n",
    "crime_counts = {}\n",
    "\n",
    "# Loop through each unique crime and count occurrences\n",
    "for crime in unique_crimes:\n",
    "    crime_counts[crime] = geo_df[geo_df['Offense Parent Group'] == crime].shape[0]\n",
    "\n",
    "# Sort the dictionary by values in descending order\n",
    "sorted_crime_counts = dict(sorted(crime_counts.items(), key=lambda item: item[1], reverse=True))\n",
    "\n",
    "# Print or use the sorted_crime_counts dictionary as needed\n",
    "print(sorted_crime_counts)"
   ]
  },
  {
   "cell_type": "code",
   "execution_count": 22,
   "metadata": {},
   "outputs": [
    {
     "data": {
      "text/plain": [
       "5565"
      ]
     },
     "execution_count": 22,
     "metadata": {},
     "output_type": "execute_result"
    }
   ],
   "source": [
    "len(seattleCrime_df[seattleCrime_df['Month'] == 1]) # 5716\n",
    "len(seattleCrime_df[seattleCrime_df['Month'] == 2]) # 4908\n",
    "len(seattleCrime_df[seattleCrime_df['Month'] == 3]) # 4929\n",
    "len(seattleCrime_df[seattleCrime_df['Month'] == 4]) # 6154\n",
    "len(seattleCrime_df[seattleCrime_df['Month'] == 5]) # 6146\n",
    "len(seattleCrime_df[seattleCrime_df['Month'] == 6]) # 5562\n",
    "len(seattleCrime_df[seattleCrime_df['Month'] == 7]) # 6061\n",
    "len(seattleCrime_df[seattleCrime_df['Month'] == 8]) # 6423\n",
    "len(seattleCrime_df[seattleCrime_df['Month'] == 9]) # 5902\n",
    "len(seattleCrime_df[seattleCrime_df['Month'] == 10]) # 6428\n",
    "len(seattleCrime_df[seattleCrime_df['Month'] == 11]) # 5792\n",
    "len(seattleCrime_df[seattleCrime_df['Month'] == 12]) # 5565"
   ]
  }
 ],
 "metadata": {
  "kernelspec": {
   "display_name": "base",
   "language": "python",
   "name": "python3"
  },
  "language_info": {
   "codemirror_mode": {
    "name": "ipython",
    "version": 3
   },
   "file_extension": ".py",
   "mimetype": "text/x-python",
   "name": "python",
   "nbconvert_exporter": "python",
   "pygments_lexer": "ipython3",
   "version": "3.11.5"
  }
 },
 "nbformat": 4,
 "nbformat_minor": 2
}
